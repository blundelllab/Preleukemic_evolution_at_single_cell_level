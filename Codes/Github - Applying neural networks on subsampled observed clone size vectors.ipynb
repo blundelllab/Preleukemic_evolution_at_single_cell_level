{
 "cells": [
  {
   "cell_type": "code",
   "execution_count": 1,
   "id": "3a9cec3a",
   "metadata": {},
   "outputs": [],
   "source": [
    "import torch \n",
    "from torch import nn\n",
    "from torch.utils.data import DataLoader, Dataset\n",
    "import json, re, glob,random\n",
    "import matplotlib.pyplot as plt\n",
    "import numpy as np"
   ]
  },
  {
   "cell_type": "code",
   "execution_count": 15,
   "id": "a9a11ce1",
   "metadata": {},
   "outputs": [],
   "source": [
    "#  define the colors from colorbrewer2\n",
    "orange1 = '#feedde'\n",
    "orange2 = '#fdbe85'\n",
    "orange3 = '#fd8d3c'\n",
    "orange4 = '#e6550d'\n",
    "orange5 = '#a63603'\n",
    "blue1 = '#eff3ff'\n",
    "blue2 = '#bdd7e7'\n",
    "blue3 = '#6baed6'\n",
    "blue4 = '#3182bd'\n",
    "blue5 = '#08519c'\n",
    "green1 = '#edf8e9'\n",
    "green2 = '#bae4b3'\n",
    "green3 = '#74c476'\n",
    "green4 = '#31a354'\n",
    "green5 = '#006d2c'\n",
    "grey1 = '#f7f7f7'\n",
    "grey2 = '#cccccc'\n",
    "grey3 = '#969696'\n",
    "grey4 = '#636363'\n",
    "grey5 = '#252525'\n",
    "purple1 = '#f2f0f7'\n",
    "purple2 = '#cbc9e2'\n",
    "purple3 = '#9e9ac8'\n",
    "purple4 = '#756bb1'\n",
    "purple5 = '#54278f'\n",
    "red1 = '#fee5d9'\n",
    "red2 = '#fcae91'\n",
    "red3 = '#fb6a4a'\n",
    "red4 = '#de2d26'\n",
    "red5 = '#a50f15'\n"
   ]
  },
  {
   "cell_type": "markdown",
   "id": "eadf36a5",
   "metadata": {},
   "source": [
    "# Observed clone size vectors"
   ]
  },
  {
   "cell_type": "code",
   "execution_count": 13,
   "id": "260f54a6",
   "metadata": {},
   "outputs": [],
   "source": [
    "mapping_ID_to_cell_output = {}\n",
    "mapping_ID_to_cell_output['7322'] = 680+50+0+8+160+50\n",
    "mapping_ID_to_cell_output['25568'] = 537+5+159+0\n",
    "mapping_ID_to_cell_output['7328'] = 43+120+36+67+363\n",
    "mapping_ID_to_cell_output['27510'] = 5+6+33\n",
    "mapping_ID_to_cell_output['2261'] = 21+0+15+3\n",
    "mapping_ID_to_cell_output['47668'] = 6+4\n",
    "\n",
    "mapping_ID_to_cell_output['2225'] = 158+38+119+7\n",
    "mapping_ID_to_cell_output['32963'] = 9+81+185\n",
    "mapping_ID_to_cell_output['27491'] = 28+20+0+10+5\n",
    "mapping_ID_to_cell_output['4334'] = 25\n",
    "mapping_ID_to_cell_output['12565b'] = 13+3\n",
    "mapping_ID_to_cell_output['26833R'] = 5"
   ]
  },
  {
   "cell_type": "code",
   "execution_count": null,
   "id": "103c4b11",
   "metadata": {},
   "outputs": [],
   "source": [
    "# import pandas as pd\n",
    "\n",
    "# # Create an empty DataFrame\n",
    "# df = pd.DataFrame(columns=['$n_0$','$n_1$','$n_2$','$n_3$','total_n', 'k', 'sample_label'])\n",
    "\n",
    "# # Append rows one by one\n",
    "# df = df.append({'$n_0$': 680, '$n_1$':  50, '$n_2$':  0,'$n_3$':8,'total_n':680+50+0+8+160+50,'k':4,'sample_label':'7322'}, ignore_index=True)\n",
    "# df = df.append({'$n_0$': 537, '$n_1$':  5, '$n_2$':  159,'$n_3$':0,'total_n':537+5+159+0,'k':4,'sample_label':'25568R'}, ignore_index=True)\n",
    "# df = df.append({'$n_0$': 0, '$n_1$':  0, '$n_2$':  43,'$n_3$':120,'total_n':43+120+36+67+363,'k':4,'sample_label':'7328'}, ignore_index=True)\n",
    "# df = df.append({'$n_0$': 5, '$n_1$':  0, '$n_2$':  0,'$n_3$':6,'total_n':5+6+33,'k':4,'sample_label':'27510'}, ignore_index=True)\n",
    "# df = df.append({'$n_0$': 21, '$n_1$':  0, '$n_2$':  15,'$n_3$':3,'total_n':21+0+15+3,'k':4,'sample_label':'2261'}, ignore_index=True)\n",
    "# df = df.append({'$n_0$': 6, '$n_1$':  0, '$n_2$':  4,'$n_3$':0,'total_n':6+0+4,'k':4,'sample_label':'47668'}, ignore_index=True)\n",
    "\n",
    "\n",
    "# df = df.append({'$n_0$': 158, '$n_1$':  38, '$n_2$':  119,'$n_3$':'NaN', 'total_n':158+38+119+7, 'k':3,'sample_label':'2225'}, ignore_index=True)\n",
    "# df = df.append({'$n_0$': 28, '$n_1$':  20, '$n_2$':  0,'$n_3$':'NaN','total_n':28+20+0+10+5,'k':3,'sample_label':'27491'}, ignore_index=True)\n",
    "# df = df.append({'$n_0$': 0, '$n_1$':  0, '$n_2$':  0,'$n_3$':'NaN','total_n':25,'k':3,'sample_label': '4334'}, ignore_index=True)\n",
    "# df = df.append({'$n_0$': 2, '$n_1$':  0, '$n_2$':  3,'$n_3$':'NaN','total_n':5,'k':3,'sample_label':'26833R'}, ignore_index=True)\n",
    "# df = df.append({'$n_0$': 13, '$n_1$':  3, '$n_2$':  1,'$n_3$':'NaN','total_n':13+3+1,'k':3,'sample_label':'12565b'}, ignore_index=True)\n",
    "# df = df.append({'$n_0$': 285, '$n_1$':  0, '$n_2$':  13,'$n_3$':'NaN','total_n':285+13,'k':3,'sample_label':'12565a_v1'}, ignore_index=True)\n",
    "# df = df.append({'$n_0$': 285, '$n_1$':  13, '$n_2$':  0,'$n_3$':'NaN','total_n':285+13,'k':3,'sample_label':'12565a_v2'}, ignore_index=True)\n",
    "\n",
    "\n",
    "\n",
    "# # df.to_csv('dataframes_for_distance_metrics/Poon_unambiguous_cases_clone_size_vectors.csv', sep=',', index=False, encoding='utf-8')"
   ]
  },
  {
   "cell_type": "code",
   "execution_count": 14,
   "id": "521c1347",
   "metadata": {},
   "outputs": [],
   "source": [
    "\n",
    "def convert_format_Poon(x, total_cell_num, n):\n",
    "    print('total_cell_num', total_cell_num, 'best n', n)\n",
    "    x = [c*n/total_cell_num for c in x]\n",
    "    y = []\n",
    "    for i in range(16):\n",
    "        y.append(x)\n",
    "    converted_x = torch.tensor(y) \n",
    "    \n",
    "    return converted_x\n",
    "\n",
    "def convert_format(x, total_cell_num, n):\n",
    "    if sum(x) != 0:\n",
    "        y = [c/sum(x) for c in x]\n",
    "    else:\n",
    "        y = None\n",
    "    return y\n",
    "\n",
    "# 4-hit\n",
    "tree_7322 = convert_format([float(680), float(50), float(0), float(8)], 680+50+0+8+160+50, 1000)\n",
    "tree_25568 = convert_format([float(537), float(5), float(159), float(0)], 537+5+159+0, 1000)\n",
    "tree_7328 = convert_format([float(0), float(0), float(43), float(120)], 43+120+36+67+363, 1000)\n",
    "tree_27510 = convert_format([float(5), float(0), float(0), float(6)], 5+6+33, 30) #changed on 16102023\n",
    "tree_2261 = convert_format([float(21), float(0), float(15), float(3)], 21+0+15+3, 30)\n",
    "tree_47668 = convert_format([float(6), float(0), float(4), float(0)], 6+0+4, 10)\n",
    "\n",
    "# 3-hit\n",
    "tree_32963 = convert_format([float(9), float(81), float(185)], 9+81+185, 300)\n",
    "tree_2225 = convert_format([float(158), float(38), float(119)], 158+38+119+7, 300)\n",
    "tree_27491 = convert_format([float(28), float(20), float(0)], 28+20+0+10+5, 100) #changed on 16102023: (normalization can be -5 )there are two versions\n",
    "tree_4334 = convert_format([float(0), float(0), float(0)], 25, 30)\n",
    "tree_12565b= convert_format([float(13), float(3),  float(0)], 13+3, 10)\n",
    "tree_26833R = convert_format([float(2), float(0), float(3)], 5, 10)\n",
    "tree_12565a_v1= convert_format([float(285), float(0),  float(13)], 285+13, 300)\n",
    "tree_12565a_v2= convert_format([float(285), float(13),  float(0)], 285+13, 300)\n",
    "\n",
    "all_trees=[tree_7322, tree_25568, tree_7328, tree_27510, tree_2261, tree_47668,tree_2225, tree_32963, tree_27491, tree_12565b, tree_26833R]\n",
    "\n"
   ]
  },
  {
   "cell_type": "code",
   "execution_count": 17,
   "id": "44ab920d",
   "metadata": {},
   "outputs": [
    {
     "data": {
      "image/png": "[encoded data removed]",
      "text/plain": [
       "<Figure size 1000x500 with 1 Axes>"
      ]
     },
     "metadata": {},
     "output_type": "display_data"
    }
   ],
   "source": [
    "plt.clf()\n",
    "plt.close('all')\n",
    "f, ax1 = plt.subplots(1,1, figsize=(10,5))\n",
    "\n",
    "sample_ID = mapping_ID_to_cell_output.keys()\n",
    "actual_cell_number = mapping_ID_to_cell_output.values()\n",
    "log_cell_number = []\n",
    "for num in actual_cell_number:\n",
    "    log_cell_number.append(np.log(num))\n",
    "plt.bar(sample_ID, log_cell_number, align='center', alpha=0.5)\n",
    "# plt.plot(loss_trajectory,  label = seed)\n",
    "\n",
    "    \n",
    "# plt.title('PHSC output')\n",
    "plt.ylabel('Number of PHSCs', fontsize = 15)# plt.xlim(-3000, 110000)\n",
    "plt.xlabel('Sample ID', fontsize = 15)\n",
    "# plt.ylabel('test accuracy', fontsize = 15)\n",
    "plt.ylim(np.log(1), np.log(2000))\n",
    "plt.yticks([np.log(1), np.log(10), np.log(100), np.log(1000)],['$10^{0}$','$10^{1}$','$10^{2}$','$10^{3}$'])\n",
    "# plt.ylabel('loss', fontsize = 15)\n",
    "plt.axhline(y=np.log(1000), linestyle = '--', color = grey4)\n",
    "plt.axhline(y=np.log(300), linestyle = '--', color = grey4)\n",
    "plt.axhline(y=np.log(100), linestyle = '--', color = grey4)\n",
    "plt.axhline(y=np.log(30), linestyle = '--', color = grey4)\n",
    "plt.axhline(y=np.log(10), linestyle = '--', color = grey4)\n",
    "# plt.spines['top'].set_visible(False)\n",
    "# plt.legend(frameon = 0, fontsize=10)\n",
    "# plt.savefig('PHSC_output.pdf', bbox_inches = 'tight')\n",
    "\n"
   ]
  },
  {
   "cell_type": "markdown",
   "id": "a663abce",
   "metadata": {},
   "source": [
    "# Define model"
   ]
  },
  {
   "cell_type": "code",
   "execution_count": 153,
   "id": "03c66859",
   "metadata": {},
   "outputs": [],
   "source": [
    "class NeuralNetwork(nn.Module):\n",
    "    def __init__(self):\n",
    "        super(NeuralNetwork, self).__init__()\n",
    "        self.flatten = nn.Flatten()\n",
    "        self.linear_relu_stack = nn.Sequential(\n",
    "            nn.Linear(3, 256),\n",
    "            nn.ReLU(),\n",
    "            nn.Linear(256, 512),\n",
    "            nn.ReLU(),\n",
    "            nn.Linear(512, 256),\n",
    "            nn.ReLU(),\n",
    "            nn.Linear(256, 128),\n",
    "            nn.ReLU(),\n",
    "            nn.Linear(128, 9),\n",
    "        )\n",
    "        \n",
    "        def init_weights(m):\n",
    "            if isinstance(m, nn.Linear):\n",
    "#                 torch.nn.init.xavier_uniform_(m.weight)\n",
    "                torch.nn.init.kaiming_uniform_(m.weight)\n",
    "\n",
    "#                 n = m.in_features\n",
    "#                 y = 1.0/np.sqrt(n)\n",
    "#                 m.weight.data.uniform_(-y, y)\n",
    "#                 m.bias.data.fill_(0)\n",
    "                \n",
    "#                 m.weight.data.normal_(0.0,y)\n",
    "                \n",
    "        self.linear_relu_stack.apply(init_weights)\n",
    "\n",
    "    def forward(self, x):\n",
    "        x = self.flatten(x)\n",
    "        logits = self.linear_relu_stack(x)\n",
    "        return logits\n",
    "    \n",
    "    "
   ]
  },
  {
   "cell_type": "code",
   "execution_count": 1,
   "id": "76c12415",
   "metadata": {},
   "outputs": [],
   "source": [
    "# # import 10 different model chosen based on k and n of observed tree\n",
    "\n",
    "# imported_model_1 = NeuralNetwork()\n",
    "# imported_model_1.load_state_dict(torch.load('stored_threehit_models/subsample30models/model_randomseed_71_data_epoch_20000.pt'))\n",
    "# imported_model_1.eval()\n",
    "\n",
    "# imported_model_2 = NeuralNetwork()\n",
    "# imported_model_2.load_state_dict(torch.load('stored_threehit_models/subsample30models/model_randomseed_72_data_epoch_20000.pt'))\n",
    "# imported_model_2.eval()\n",
    "\n",
    "# imported_model_3 = NeuralNetwork()\n",
    "# imported_model_3.load_state_dict(torch.load('stored_threehit_models/subsample30models/model_randomseed_73_data_epoch_20000.pt'))\n",
    "# imported_model_3.eval()\n",
    "\n",
    "# imported_model_4 = NeuralNetwork()\n",
    "# imported_model_4.load_state_dict(torch.load('stored_threehit_models/subsample30models/model_randomseed_74_data_epoch_20000.pt'))\n",
    "# imported_model_4.eval()\n",
    "\n",
    "# imported_model_5 = NeuralNetwork()\n",
    "# imported_model_5.load_state_dict(torch.load('stored_threehit_models/subsample30models/model_randomseed_75_data_epoch_20000.pt'))\n",
    "# imported_model_5.eval()\n",
    "\n",
    "# imported_model_6 = NeuralNetwork()\n",
    "# imported_model_6.load_state_dict(torch.load('stored_threehit_models/subsample30models/model_randomseed_76_data_epoch_20000.pt'))\n",
    "# imported_model_6.eval()\n",
    "\n",
    "# imported_model_7 = NeuralNetwork()\n",
    "# imported_model_7.load_state_dict(torch.load('stored_threehit_models/subsample30models/model_randomseed_77_data_epoch_20000.pt'))\n",
    "# imported_model_7.eval()\n",
    "\n",
    "# imported_model_8 = NeuralNetwork()\n",
    "# imported_model_8.load_state_dict(torch.load('stored_threehit_models/subsample30models/model_randomseed_78_data_epoch_20000.pt'))\n",
    "# imported_model_8.eval()\n",
    "\n",
    "# imported_model_9 = NeuralNetwork()\n",
    "# imported_model_9.load_state_dict(torch.load('stored_threehit_models/subsample30models/model_randomseed_79_data_epoch_20000.pt'))\n",
    "# imported_model_9.eval()\n",
    "\n",
    "# imported_model_10 = NeuralNetwork()\n",
    "# imported_model_10.load_state_dict(torch.load('stored_threehit_models/subsample30models/model_randomseed_80_data_epoch_20000.pt'))\n",
    "# imported_model_10.eval()"
   ]
  },
  {
   "cell_type": "code",
   "execution_count": 162,
   "id": "40ba896c",
   "metadata": {},
   "outputs": [],
   "source": [
    "import seaborn as sns\n",
    "from statistics import mode\n",
    "\n",
    "def predicting_real_tree_params(real_tree):\n",
    "    \n",
    "    correct = 0\n",
    "    predicted_class_list = {}\n",
    "    actual_class_list = {}\n",
    "    with torch.no_grad():\n",
    "        \n",
    "        predicted_class_list = []\n",
    "        pred = imported_model_1(real_tree)\n",
    "        predicted_class_1 = int(pred.argmax(1)[0])\n",
    "        predicted_class_list.append(predicted_class_1)\n",
    "            \n",
    "        def evaluating_with_one_more_model(model):\n",
    "            \n",
    "            pred = model(real_tree)\n",
    "            predicted_class = int(pred.argmax(1)[0])\n",
    "            predicted_class_list.append(predicted_class)\n",
    "                \n",
    "            return predicted_class_list\n",
    "        \n",
    "        evaluating_with_one_more_model(imported_model_2)\n",
    "        evaluating_with_one_more_model(imported_model_3)\n",
    "        evaluating_with_one_more_model(imported_model_4)\n",
    "        evaluating_with_one_more_model(imported_model_5)\n",
    "        evaluating_with_one_more_model(imported_model_6)\n",
    "        evaluating_with_one_more_model(imported_model_7)\n",
    "        evaluating_with_one_more_model(imported_model_8)\n",
    "        evaluating_with_one_more_model(imported_model_9)\n",
    "        evaluating_with_one_more_model(imported_model_10)\n",
    "                 \n",
    "        consensus_prediction=mode(predicted_class_list)\n",
    "\n",
    "    print('predicted_class_list', predicted_class_list)\n",
    "    \n",
    "    return predicted_class_list, consensus_prediction\n",
    "\n",
    "\n",
    "def output(predicted_class_list_dict, title):\n",
    "\n",
    "    predicted_class_list = predicted_class_list_dict\n",
    "    \n",
    "    \n",
    "    output_matrix = [[0,0,0],[0,0,0], [0,0,0]]\n",
    "    number_of_test_data_versions = len(predicted_class_list)\n",
    "    for predicted_class in predicted_class_list:\n",
    "        column = predicted_class % 3\n",
    "        if 6>predicted_class >= 3:\n",
    "            row = 1\n",
    "        else:\n",
    "            if predicted_class >= 6:\n",
    "                row = 2\n",
    "            else:\n",
    "                row = 0\n",
    "        output_matrix[row][column]+=1\n",
    "\n",
    "    categories_x = ['neutral','moderate', 'very \\nstrong']\n",
    "    categories_x = ['weak','moderate', 'strong']\n",
    "    categories_y = ['high', 'medium', 'low']\n",
    "\n",
    "    plt.rcParams[\"figure.figsize\"] = [7.50, 3.50]\n",
    "    plt.rcParams[\"figure.autolayout\"] = True\n",
    "    fig, ax2 = plt.subplots(ncols=1, figsize=(5,5))\n",
    "    fig.subplots_adjust(wspace=0.01)\n",
    "\n",
    "#     sns.heatmap(input_matrix, annot=False, ax=ax1, fmt='.2%', cmap='Blues', cbar=False, vmin=0, vmax=1)\n",
    "#     ax1.set_xticklabels(categories_x, fontsize=20)\n",
    "#     ax1.set_yticklabels(categories_y, fontsize=20)\n",
    "#     ax1.set_xlabel('$s$', fontsize = 20)\n",
    "    \n",
    "    \n",
    "    sns.heatmap(output_matrix, annot=False,  fmt='.2%', cmap='BuPu', cbar=False, \\\n",
    "                vmin = 0, vmax = number_of_test_data_versions)\n",
    "    \n",
    "    ax2.set_xticklabels(categories_x, fontsize=20)\n",
    "    ax2.set_yticklabels(categories_y, fontsize=20)\n",
    "    ax2.set_xlabel('$s$', fontsize = 20)\n",
    "    ax2.set_ylabel('$\\mu$', fontsize = 20)\n",
    "    # cm_display = metrics.ConfusionMatrixDisplay(confusion_matrix = np.array(confusion_matrix), display_labels = [False, True])\n",
    "\n",
    "#     cm_display.plot()\n",
    "    plt.savefig('MLoutput_14122023/Tree_'+str(title)+'_k3n300_classifier.pdf', bbox_inches = 'tight')\n",
    "\n",
    "\n",
    "    plt.show()"
   ]
  },
  {
   "cell_type": "code",
   "execution_count": 164,
   "id": "98519f36",
   "metadata": {},
   "outputs": [
    {
     "name": "stdout",
     "output_type": "stream",
     "text": [
      "predicted_class_list [2, 2, 2, 1, 2, 2, 3, 1, 2, 2]\n"
     ]
    },
    {
     "data": {
      "image/png": "[encoded data removed]",
      "text/plain": [
       "<Figure size 500x500 with 1 Axes>"
      ]
     },
     "metadata": {},
     "output_type": "display_data"
    }
   ],
   "source": [
    "predicted_class_list, consensus_prediction = predicting_real_tree_params(tree_12565a_v2)\n",
    "\n",
    "output(predicted_class_list, '12565a_v2')"
   ]
  },
  {
   "cell_type": "code",
   "execution_count": 124,
   "id": "9efd57ee",
   "metadata": {},
   "outputs": [],
   "source": [
    "# threehit_master_list = [7, 4, 4, 7, 7, 7, 7, 7, 7, 4] + [4, 1, 1, 1, 1, 1, 4, 1, 1, 1] + [5, 0, 5, 5, 4, 5, 7, 5, 2, 2]+[2, 4, 4, 1, 2, 1, 1, 2, 1, 5]+[7, 7, 8, 8, 5, 8, 5, 5, 7, 2]\n",
    "# fourhit_master_list = [1, 4, 1, 0, 5, 1, 5, 4, 4, 4] + [0, 0, 4, 4, 0, 1, 4, 1, 4, 0] + [5, 5, 5, 2, 4, 5, 5, 5, 5, 4]+[2, 4, 5, 4, 2, 0, 5, 3, 0, 1]+[5, 4, 0, 4, 4, 5, 3, 4, 0, 5]+[1, 4, 5, 4, 0, 0, 4, 2, 5, 4]\n",
    "\n"
   ]
  },
  {
   "cell_type": "code",
   "execution_count": 127,
   "id": "1970d11b",
   "metadata": {},
   "outputs": [],
   "source": [
    "import seaborn as sns\n",
    "from statistics import mode\n",
    "\n",
    "def outputtotal(predicted_class_list_dict, title):\n",
    "\n",
    "    predicted_class_list = predicted_class_list_dict\n",
    "    print('predicted_class_list', predicted_class_list)\n",
    "    \n",
    "    output_matrix = [[0,0,0],[0,0,0], [0,0,0]]\n",
    "    number_of_test_data_versions = len(predicted_class_list)\n",
    "    for predicted_class in predicted_class_list:\n",
    "        column = predicted_class % 3\n",
    "        if 6>predicted_class >= 3:\n",
    "            row = 1\n",
    "        else:\n",
    "            if predicted_class >= 6:\n",
    "                row = 2\n",
    "            else:\n",
    "                row = 0\n",
    "        output_matrix[row][column]+=1\n",
    "\n",
    "    categories_x = ['neutral','moderate', 'very \\nstrong']\n",
    "    categories_y = ['high', 'medium', 'low']\n",
    "\n",
    "    plt.rcParams[\"figure.figsize\"] = [7.50, 3.50]\n",
    "    plt.rcParams[\"figure.autolayout\"] = True\n",
    "    fig, ax2 = plt.subplots(ncols=1, figsize=(5,5))\n",
    "    fig.subplots_adjust(wspace=0.01)\n",
    "\n",
    "#     sns.heatmap(input_matrix, annot=False, ax=ax1, fmt='.2%', cmap='Blues', cbar=False, vmin=0, vmax=1)\n",
    "#     ax1.set_xticklabels(categories_x, fontsize=20)\n",
    "#     ax1.set_yticklabels(categories_y, fontsize=20)\n",
    "#     ax1.set_xlabel('$s$', fontsize = 20)\n",
    "    \n",
    "    \n",
    "    sns.heatmap(output_matrix, annot=False,  fmt='.2%', cmap='BuPu', cbar=False, \\\n",
    "                vmin = 0, vmax = number_of_test_data_versions)\n",
    "    \n",
    "    ax2.set_xticklabels(categories_x, fontsize=20)\n",
    "    ax2.set_yticklabels(categories_y, fontsize=20)\n",
    "    ax2.set_xlabel('$s$', fontsize = 20)\n",
    "    ax2.set_ylabel('$\\mu$', fontsize = 20)\n",
    "    # cm_display = metrics.ConfusionMatrixDisplay(confusion_matrix = np.array(confusion_matrix), display_labels = [False, True])\n",
    "\n",
    "#     cm_display.plot()\n",
    "#     plt.savefig('stored_fourhit_models_inc_neutrality/graphs/Summary_4hits.pdf', bbox_inches = 'tight')\n",
    "#     plt.savefig('MLoutput_14122023/Summary_of_fourhit.pdf', bbox_inches = 'tight')\n",
    "# \n",
    "\n",
    "    plt.show()"
   ]
  },
  {
   "cell_type": "code",
   "execution_count": 126,
   "id": "50b2110a",
   "metadata": {},
   "outputs": [
    {
     "name": "stdout",
     "output_type": "stream",
     "text": [
      "predicted_class_list [1, 4, 1, 0, 5, 1, 5, 4, 4, 4, 0, 0, 4, 4, 0, 1, 4, 1, 4, 0, 5, 5, 5, 2, 4, 5, 5, 5, 5, 4, 2, 4, 5, 4, 2, 0, 5, 3, 0, 1, 5, 4, 0, 4, 4, 5, 3, 4, 0, 5, 1, 4, 5, 4, 0, 0, 4, 2, 5, 4]\n"
     ]
    },
    {
     "data": {
      "image/png": "[encoded data removed]",
      "text/plain": [
       "<Figure size 500x500 with 1 Axes>"
      ]
     },
     "metadata": {},
     "output_type": "display_data"
    }
   ],
   "source": [
    "outputtotal(fourhit_master_list, 1)"
   ]
  },
  {
   "cell_type": "markdown",
   "id": "1cc7a2da",
   "metadata": {},
   "source": [
    "# Dropout rates"
   ]
  },
  {
   "cell_type": "code",
   "execution_count": 71,
   "id": "ba3bb2b3",
   "metadata": {},
   "outputs": [],
   "source": [
    "# DO_25568R = 0.157\n",
    "# DO_27510 = 0.1535\n",
    "# DO_26833R = 0.136\n",
    "# DO_2239 = 0.259\n",
    "# DO_27491 = 0.067\n",
    "# DO_47668= 0.226\n",
    "# # DO_7313 = 0.188\n",
    "# DO_4334 = 0.082\n",
    "# DO_2261 = 0.1225\n",
    "\n",
    "# DO_32747 = 0.121\n",
    "# DO_7328 = 0.09\n",
    "# DO_32963 = 0.137\n",
    "# DO_6374 = 0.096\n",
    "# DO_41095 = 0.178\n",
    "# DO_2225 = 0.157\n",
    "# DO_12565a = 0.143\n",
    "\n",
    "\n",
    "# DO_12565b= 'NA'\n",
    "# DO_7322= 'NA'"
   ]
  },
  {
   "cell_type": "markdown",
   "id": "8a59bba6",
   "metadata": {},
   "source": [
    "# Convergence of accuracy"
   ]
  },
  {
   "cell_type": "code",
   "execution_count": 15,
   "id": "2188f3ef",
   "metadata": {},
   "outputs": [],
   "source": [
    "def read_accuracy(filename):\n",
    "    print(\"Started reading\")\n",
    "    with open(filename, \"rb\") as fp:\n",
    "        accuracy_trajectory = json.load(fp)\n",
    "#         print(\"Done writing JSON data into .json file\")\n",
    "        \n",
    "    return accuracy_trajectory"
   ]
  },
  {
   "cell_type": "code",
   "execution_count": 26,
   "id": "e9a20748",
   "metadata": {
    "scrolled": true
   },
   "outputs": [
    {
     "name": "stdout",
     "output_type": "stream",
     "text": [
      "Started reading\n",
      "Started reading\n",
      "Started reading\n"
     ]
    },
    {
     "data": {
      "image/png": "[encoded data removed]",
      "text/plain": [
       "<Figure size 600x500 with 1 Axes>"
      ]
     },
     "metadata": {},
     "output_type": "display_data"
    }
   ],
   "source": [
    "import glob as glob\n",
    "plt.clf()\n",
    "plt.close('all')\n",
    "f, ax1 = plt.subplots(1,1, figsize=(6,5))\n",
    "\n",
    "list_of_filenames= glob.glob('Selected_models//k3_n300//training_loss//testing_accuracy*')\n",
    "list_of_training_filenames=glob.glob('Selected_models//k3_n300//training_loss//training_accuracy*')\n",
    "list_of_seeds = range(len(list_of_training_filenames))\n",
    "\n",
    "# for filename, seed in zip(list_of_training_filenames, list_of_seeds):\n",
    "#     accuracy_trajectory = read_accuracy(filename)\n",
    "#     plt.plot(accuracy_trajectory, color = grey2) \n",
    "for filename, seed in zip(list_of_filenames, list_of_seeds):\n",
    "    accuracy_trajectory = read_accuracy(filename)\n",
    "    plt.plot(accuracy_trajectory, label = 'seed'+str(seed))\n",
    "# plt.plot(loss_trajectory,  label = seed)\n",
    "\n",
    "    \n",
    "plt.title('k=3, n=300')\n",
    "# plt.xlim(-3000, 110000)\n",
    "plt.xlabel('epoch', fontsize = 15)\n",
    "plt.ylabel('test accuracy', fontsize = 15)\n",
    "plt.ylim(0, 1.0)\n",
    "plt.xticks([0,50000,100000])\n",
    "# plt.xticklabels([0,50000,100000])\n",
    "# plt.ylabel('loss', fontsize = 15)\n",
    "# plt.axhline(y=0.52, linestyle = '--', color = grey4)\n",
    "plt.axhline(y=1/8, linestyle = '--', color = grey2)\n",
    "\n",
    "# plt.spines['top'].set_visible(False)\n",
    "# plt.legend(frameon = 0, fontsize=10)\n",
    "\n",
    "# plt.savefig('Selected_models/plot_k3_n300.pdf', bbox_inches = 'tight')\n",
    "\n"
   ]
  },
  {
   "cell_type": "markdown",
   "id": "effb6201",
   "metadata": {},
   "source": [
    "# Trained models"
   ]
  },
  {
   "cell_type": "markdown",
   "id": "e321d9bf",
   "metadata": {},
   "source": [
    "Below is the list of trained neural networks used for the corresponding k and n."
   ]
  },
  {
   "cell_type": "markdown",
   "id": "0795e722",
   "metadata": {},
   "source": [
    "k=4, n=1000"
   ]
  },
  {
   "cell_type": "code",
   "execution_count": null,
   "id": "655ad1b8",
   "metadata": {},
   "outputs": [],
   "source": [
    "list_of_filenames=[\n",
    "    \"stored_fourhit_models_inc_neutrality/three_seed_test/subsample1000models/testing_accuracy_three_seed_test_initialization_a.json\",\n",
    "    \"stored_fourhit_models_inc_neutrality/three_seed_test/subsample1000models/testing_accuracy_three_seed_test_initialization_b.json\",\n",
    "    \"stored_fourhit_models_inc_neutrality/three_seed_test/subsample1000models/testing_accuracy_three_seed_test_initialization_c.json\"]\n"
   ]
  },
  {
   "cell_type": "code",
   "execution_count": 49,
   "id": "fcc88518",
   "metadata": {},
   "outputs": [
    {
     "data": {
      "text/plain": [
       "NeuralNetwork(\n",
       "  (flatten): Flatten(start_dim=1, end_dim=-1)\n",
       "  (linear_relu_stack): Sequential(\n",
       "    (0): Linear(in_features=4, out_features=256, bias=True)\n",
       "    (1): ReLU()\n",
       "    (2): Linear(in_features=256, out_features=512, bias=True)\n",
       "    (3): ReLU()\n",
       "    (4): Linear(in_features=512, out_features=256, bias=True)\n",
       "    (5): ReLU()\n",
       "    (6): Linear(in_features=256, out_features=128, bias=True)\n",
       "    (7): ReLU()\n",
       "    (8): Linear(in_features=128, out_features=6, bias=True)\n",
       "  )\n",
       ")"
      ]
     },
     "execution_count": 49,
     "metadata": {},
     "output_type": "execute_result"
    }
   ],
   "source": [
    "# imported_model_1 = NeuralNetwork()\n",
    "# imported_model_1.load_state_dict(torch.load('stored_fourhit_models_inc_neutrality/three_seed_test/subsample1000models/model_three_seed_test_initialization_a_data_150000.pt'))\n",
    "# imported_model_1.eval()\n",
    "\n",
    "# imported_model_2 = NeuralNetwork()\n",
    "# imported_model_2.load_state_dict(torch.load('stored_fourhit_models_inc_neutrality/three_seed_test/subsample1000models/model_three_seed_test_initialization_b_data_150000.pt'))\n",
    "# imported_model_2.eval()\n",
    "\n",
    "# imported_model_3 = NeuralNetwork()\n",
    "# imported_model_3.load_state_dict(torch.load('stored_fourhit_models_inc_neutrality/three_seed_test/subsample1000models/model_three_seed_test_initialization_c_data_150000.pt'))\n",
    "# imported_model_3.eval()"
   ]
  },
  {
   "cell_type": "code",
   "execution_count": 128,
   "id": "c819d71a",
   "metadata": {},
   "outputs": [
    {
     "data": {
      "text/plain": [
       "NeuralNetwork(\n",
       "  (flatten): Flatten(start_dim=1, end_dim=-1)\n",
       "  (linear_relu_stack): Sequential(\n",
       "    (0): Linear(in_features=4, out_features=256, bias=True)\n",
       "    (1): ReLU()\n",
       "    (2): Linear(in_features=256, out_features=512, bias=True)\n",
       "    (3): ReLU()\n",
       "    (4): Linear(in_features=512, out_features=256, bias=True)\n",
       "    (5): ReLU()\n",
       "    (6): Linear(in_features=256, out_features=128, bias=True)\n",
       "    (7): ReLU()\n",
       "    (8): Linear(in_features=128, out_features=6, bias=True)\n",
       "  )\n",
       ")"
      ]
     },
     "execution_count": 128,
     "metadata": {},
     "output_type": "execute_result"
    }
   ],
   "source": [
    "# import 10 different model\n",
    "\n",
    "imported_model_1 = NeuralNetwork()\n",
    "imported_model_1.load_state_dict(torch.load('stored_fourhit_models_inc_neutrality/subsample1000models/model_with_sb_randomseed_1_data_epoch_10000.pt'))\n",
    "imported_model_1.eval()\n",
    "\n",
    "imported_model_2 = NeuralNetwork()\n",
    "imported_model_2.load_state_dict(torch.load('stored_fourhit_models_inc_neutrality/subsample1000models/model_with_sb_randomseed_2_data_epoch_10000.pt'))\n",
    "imported_model_2.eval()\n",
    "\n",
    "imported_model_3 = NeuralNetwork()\n",
    "imported_model_3.load_state_dict(torch.load('stored_fourhit_models_inc_neutrality/subsample1000models/model_with_sb_randomseed_3_data_epoch_10000.pt'))\n",
    "imported_model_3.eval()\n",
    "\n",
    "imported_model_4 = NeuralNetwork()\n",
    "imported_model_4.load_state_dict(torch.load('stored_fourhit_models_inc_neutrality/subsample1000models/model_with_sb_randomseed_4_data_epoch_10000.pt'))\n",
    "imported_model_4.eval()\n",
    "\n",
    "imported_model_5 = NeuralNetwork()\n",
    "imported_model_5.load_state_dict(torch.load('stored_fourhit_models_inc_neutrality/subsample1000models/model_with_sb_randomseed_5_data_epoch_10000.pt'))\n",
    "imported_model_5.eval()\n",
    "\n",
    "imported_model_6 = NeuralNetwork()\n",
    "imported_model_6.load_state_dict(torch.load('stored_fourhit_models_inc_neutrality/subsample1000models/model_with_sb_randomseed_6_data_epoch_10000.pt'))\n",
    "imported_model_6.eval()\n",
    "\n",
    "imported_model_7 = NeuralNetwork()\n",
    "imported_model_7.load_state_dict(torch.load('stored_fourhit_models_inc_neutrality/subsample1000models/model_with_sb_randomseed_7_data_epoch_10000.pt'))\n",
    "imported_model_7.eval()\n",
    "\n",
    "imported_model_8 = NeuralNetwork()\n",
    "imported_model_8.load_state_dict(torch.load('stored_fourhit_models_inc_neutrality/subsample1000models/model_with_sb_randomseed_8_data_epoch_10000.pt'))\n",
    "imported_model_8.eval()\n",
    "\n",
    "imported_model_9 = NeuralNetwork()\n",
    "imported_model_9.load_state_dict(torch.load('stored_fourhit_models_inc_neutrality/subsample1000models/model_with_sb_randomseed_9_data_epoch_10000.pt'))\n",
    "imported_model_9.eval()\n",
    "\n",
    "imported_model_10 = NeuralNetwork()\n",
    "imported_model_10.load_state_dict(torch.load('stored_fourhit_models_inc_neutrality/subsample1000models/model_with_sb_randomseed_10_data_epoch_10000.pt'))\n",
    "imported_model_10.eval()\n"
   ]
  },
  {
   "cell_type": "markdown",
   "id": "db68b8c1",
   "metadata": {},
   "source": [
    "k=4, n=300"
   ]
  },
  {
   "cell_type": "code",
   "execution_count": 136,
   "id": "e6c20910",
   "metadata": {},
   "outputs": [
    {
     "data": {
      "text/plain": [
       "NeuralNetwork(\n",
       "  (flatten): Flatten(start_dim=1, end_dim=-1)\n",
       "  (linear_relu_stack): Sequential(\n",
       "    (0): Linear(in_features=4, out_features=256, bias=True)\n",
       "    (1): ReLU()\n",
       "    (2): Linear(in_features=256, out_features=512, bias=True)\n",
       "    (3): ReLU()\n",
       "    (4): Linear(in_features=512, out_features=256, bias=True)\n",
       "    (5): ReLU()\n",
       "    (6): Linear(in_features=256, out_features=128, bias=True)\n",
       "    (7): ReLU()\n",
       "    (8): Linear(in_features=128, out_features=6, bias=True)\n",
       "  )\n",
       ")"
      ]
     },
     "execution_count": 136,
     "metadata": {},
     "output_type": "execute_result"
    }
   ],
   "source": [
    "# import 10 different model\n",
    "\n",
    "imported_model_1 = NeuralNetwork()\n",
    "imported_model_1.load_state_dict(torch.load('stored_fourhit_models_inc_neutrality/subsample300models/model_with_sb_randomseed_11_data_epoch_10000.pt'))\n",
    "imported_model_1.eval()\n",
    "\n",
    "imported_model_2 = NeuralNetwork()\n",
    "imported_model_2.load_state_dict(torch.load('stored_fourhit_models_inc_neutrality/subsample300models/model_with_sb_randomseed_12_data_epoch_10000.pt'))\n",
    "imported_model_2.eval()\n",
    "\n",
    "imported_model_3 = NeuralNetwork()\n",
    "imported_model_3.load_state_dict(torch.load('stored_fourhit_models_inc_neutrality/subsample300models/model_with_sb_randomseed_13_data_epoch_10000.pt'))\n",
    "imported_model_3.eval()\n",
    "\n",
    "imported_model_4 = NeuralNetwork()\n",
    "imported_model_4.load_state_dict(torch.load('stored_fourhit_models_inc_neutrality/subsample300models/model_with_sb_randomseed_14_data_epoch_10000.pt'))\n",
    "imported_model_4.eval()\n",
    "\n",
    "imported_model_5 = NeuralNetwork()\n",
    "imported_model_5.load_state_dict(torch.load('stored_fourhit_models_inc_neutrality/subsample300models/model_with_sb_randomseed_15_data_epoch_10000.pt'))\n",
    "imported_model_5.eval()\n",
    "\n",
    "imported_model_6 = NeuralNetwork()\n",
    "imported_model_6.load_state_dict(torch.load('stored_fourhit_models_inc_neutrality/subsample300models/model_with_sb_randomseed_16_data_epoch_10000.pt'))\n",
    "imported_model_6.eval()\n",
    "\n",
    "imported_model_7 = NeuralNetwork()\n",
    "imported_model_7.load_state_dict(torch.load('stored_fourhit_models_inc_neutrality/subsample300models/model_with_sb_randomseed_17_data_epoch_10000.pt'))\n",
    "imported_model_7.eval()\n",
    "\n",
    "imported_model_8 = NeuralNetwork()\n",
    "imported_model_8.load_state_dict(torch.load('stored_fourhit_models_inc_neutrality/subsample300models/model_with_sb_randomseed_18_data_epoch_10000.pt'))\n",
    "imported_model_8.eval()\n",
    "\n",
    "imported_model_9 = NeuralNetwork()\n",
    "imported_model_9.load_state_dict(torch.load('stored_fourhit_models_inc_neutrality/subsample300models/model_with_sb_randomseed_19_data_epoch_10000.pt'))\n",
    "imported_model_9.eval()\n",
    "\n",
    "imported_model_10 = NeuralNetwork()\n",
    "imported_model_10.load_state_dict(torch.load('stored_fourhit_models_inc_neutrality/subsample300models/model_with_sb_randomseed_20_data_epoch_10000.pt'))\n",
    "imported_model_10.eval()\n"
   ]
  },
  {
   "cell_type": "markdown",
   "id": "74230723",
   "metadata": {},
   "source": [
    "k=4, n=30"
   ]
  },
  {
   "cell_type": "code",
   "execution_count": null,
   "id": "f2bc0c49",
   "metadata": {},
   "outputs": [],
   "source": [
    "list_of_filenames=[\n",
    "    \"stored_fourhit_models_inc_neutrality/three_seed_test/subsample30models/testing_accuracy_three_seed_test_initialization_a.json\",\n",
    "    \"stored_fourhit_models_inc_neutrality/three_seed_test/subsample30models/testing_accuracy_three_seed_test_initialization_b.json\",\n",
    "    \"stored_fourhit_models_inc_neutrality/three_seed_test/subsample30models/testing_accuracy_three_seed_test_initialization_c.json\"]\n"
   ]
  },
  {
   "cell_type": "code",
   "execution_count": 116,
   "id": "f37d41f6",
   "metadata": {},
   "outputs": [],
   "source": [
    "# imported_model_1 = NeuralNetwork()\n",
    "# imported_model_1.load_state_dict(torch.load('stored_fourhit_models_inc_neutrality/three_seed_test/subsample30models/model_three_seed_test_initialization_a_epoch_150000.pt'))\n",
    "# imported_model_1.eval()\n",
    "\n",
    "# imported_model_2 = NeuralNetwork()\n",
    "# imported_model_2.load_state_dict(torch.load('stored_fourhit_models_inc_neutrality/three_seed_test/subsample30models/model_three_seed_test_initialization_b_epoch_150000.pt'))\n",
    "# imported_model_2.eval()\n",
    "\n",
    "# imported_model_3 = NeuralNetwork()\n",
    "# imported_model_3.load_state_dict(torch.load('stored_fourhit_models_inc_neutrality/three_seed_test/subsample30models/model_three_seed_test_initialization_c_epoch_150000.pt'))\n",
    "# imported_model_3.eval()"
   ]
  },
  {
   "cell_type": "code",
   "execution_count": 146,
   "id": "f608364c",
   "metadata": {},
   "outputs": [
    {
     "data": {
      "text/plain": [
       "NeuralNetwork(\n",
       "  (flatten): Flatten(start_dim=1, end_dim=-1)\n",
       "  (linear_relu_stack): Sequential(\n",
       "    (0): Linear(in_features=4, out_features=256, bias=True)\n",
       "    (1): ReLU()\n",
       "    (2): Linear(in_features=256, out_features=512, bias=True)\n",
       "    (3): ReLU()\n",
       "    (4): Linear(in_features=512, out_features=256, bias=True)\n",
       "    (5): ReLU()\n",
       "    (6): Linear(in_features=256, out_features=128, bias=True)\n",
       "    (7): ReLU()\n",
       "    (8): Linear(in_features=128, out_features=6, bias=True)\n",
       "  )\n",
       ")"
      ]
     },
     "execution_count": 146,
     "metadata": {},
     "output_type": "execute_result"
    }
   ],
   "source": [
    "# import 10 different model\n",
    "\n",
    "imported_model_1 = NeuralNetwork()\n",
    "imported_model_1.load_state_dict(torch.load('stored_fourhit_models_inc_neutrality/subsample30models/model_with_sb_higher_alpha_randomseed_11_data_epoch_10000.pt'))\n",
    "imported_model_1.eval()\n",
    "\n",
    "imported_model_2 = NeuralNetwork()\n",
    "imported_model_2.load_state_dict(torch.load('stored_fourhit_models_inc_neutrality/subsample30models/model_with_sb_higher_alpha_randomseed_12_data_epoch_10000.pt'))\n",
    "imported_model_2.eval()\n",
    "\n",
    "imported_model_3 = NeuralNetwork()\n",
    "imported_model_3.load_state_dict(torch.load('stored_fourhit_models_inc_neutrality/subsample30models/model_with_sb_higher_alpha_randomseed_13_data_epoch_10000.pt'))\n",
    "imported_model_3.eval()\n",
    "\n",
    "imported_model_4 = NeuralNetwork()\n",
    "imported_model_4.load_state_dict(torch.load('stored_fourhit_models_inc_neutrality/subsample30models/model_with_sb_higher_alpha_randomseed_14_data_epoch_10000.pt'))\n",
    "imported_model_4.eval()\n",
    "\n",
    "imported_model_5 = NeuralNetwork()\n",
    "imported_model_5.load_state_dict(torch.load('stored_fourhit_models_inc_neutrality/subsample30models/model_with_sb_higher_alpha_randomseed_15_data_epoch_10000.pt'))\n",
    "imported_model_5.eval()\n",
    "\n",
    "imported_model_6 = NeuralNetwork()\n",
    "imported_model_6.load_state_dict(torch.load('stored_fourhit_models_inc_neutrality/subsample30models/model_with_sb_higher_alpha_randomseed_16_data_epoch_10000.pt'))\n",
    "imported_model_6.eval()\n",
    "\n",
    "imported_model_7 = NeuralNetwork()\n",
    "imported_model_7.load_state_dict(torch.load('stored_fourhit_models_inc_neutrality/subsample30models/model_with_sb_higher_alpha_randomseed_17_data_epoch_10000.pt'))\n",
    "imported_model_7.eval()\n",
    "\n",
    "imported_model_8 = NeuralNetwork()\n",
    "imported_model_8.load_state_dict(torch.load('stored_fourhit_models_inc_neutrality/subsample30models/model_with_sb_higher_alpha_randomseed_18_data_epoch_10000.pt'))\n",
    "imported_model_8.eval()\n",
    "\n",
    "imported_model_9 = NeuralNetwork()\n",
    "imported_model_9.load_state_dict(torch.load('stored_fourhit_models_inc_neutrality/subsample30models/model_with_sb_higher_alpha_randomseed_19_data_epoch_10000.pt'))\n",
    "imported_model_9.eval()\n",
    "\n",
    "imported_model_10 = NeuralNetwork()\n",
    "imported_model_10.load_state_dict(torch.load('stored_fourhit_models_inc_neutrality/subsample30models/model_with_sb_higher_alpha_randomseed_20_data_epoch_10000.pt'))\n",
    "imported_model_10.eval()\n"
   ]
  },
  {
   "cell_type": "markdown",
   "id": "84776409",
   "metadata": {},
   "source": [
    "k=4, n=10"
   ]
  },
  {
   "cell_type": "code",
   "execution_count": null,
   "id": "d69b59ab",
   "metadata": {},
   "outputs": [],
   "source": [
    "list_of_filenames=[\n",
    "    \"stored_fourhit_models_inc_neutrality/three_seed_test/subsample10models/testing_accuracy_three_seed_test_initialization_a.json\",\n",
    "    \"stored_fourhit_models_inc_neutrality/three_seed_test/subsample10models/testing_accuracy_three_seed_test_initialization_b.json\",\n",
    "    \"stored_fourhit_models_inc_neutrality/three_seed_test/subsample10models/testing_accuracy_three_seed_test_initialization_c.json\"]\n"
   ]
  },
  {
   "cell_type": "code",
   "execution_count": 50,
   "id": "4491087a",
   "metadata": {},
   "outputs": [
    {
     "data": {
      "text/plain": [
       "NeuralNetwork(\n",
       "  (flatten): Flatten(start_dim=1, end_dim=-1)\n",
       "  (linear_relu_stack): Sequential(\n",
       "    (0): Linear(in_features=4, out_features=256, bias=True)\n",
       "    (1): ReLU()\n",
       "    (2): Linear(in_features=256, out_features=512, bias=True)\n",
       "    (3): ReLU()\n",
       "    (4): Linear(in_features=512, out_features=256, bias=True)\n",
       "    (5): ReLU()\n",
       "    (6): Linear(in_features=256, out_features=128, bias=True)\n",
       "    (7): ReLU()\n",
       "    (8): Linear(in_features=128, out_features=6, bias=True)\n",
       "  )\n",
       ")"
      ]
     },
     "execution_count": 50,
     "metadata": {},
     "output_type": "execute_result"
    }
   ],
   "source": [
    "# imported_model_1 = NeuralNetwork()\n",
    "# imported_model_1.load_state_dict(torch.load('stored_fourhit_models_inc_neutrality/three_seed_test/subsample10models/model_three_seed_test_initialization_a_epoch_150000.pt'))\n",
    "# imported_model_1.eval()\n",
    "\n",
    "# imported_model_2 = NeuralNetwork()\n",
    "# imported_model_2.load_state_dict(torch.load('stored_fourhit_models_inc_neutrality/three_seed_test/subsample10models/model_three_seed_test_initialization_b_epoch_150000.pt'))\n",
    "# imported_model_2.eval()\n",
    "\n",
    "# imported_model_3 = NeuralNetwork()\n",
    "# imported_model_3.load_state_dict(torch.load('stored_fourhit_models_inc_neutrality/three_seed_test/subsample10models/model_three_seed_test_initialization_c_epoch_150000.pt'))\n",
    "# imported_model_3.eval()\n",
    "\n"
   ]
  },
  {
   "cell_type": "code",
   "execution_count": 121,
   "id": "1588c6a9",
   "metadata": {},
   "outputs": [
    {
     "data": {
      "text/plain": [
       "NeuralNetwork(\n",
       "  (flatten): Flatten(start_dim=1, end_dim=-1)\n",
       "  (linear_relu_stack): Sequential(\n",
       "    (0): Linear(in_features=4, out_features=256, bias=True)\n",
       "    (1): ReLU()\n",
       "    (2): Linear(in_features=256, out_features=512, bias=True)\n",
       "    (3): ReLU()\n",
       "    (4): Linear(in_features=512, out_features=256, bias=True)\n",
       "    (5): ReLU()\n",
       "    (6): Linear(in_features=256, out_features=128, bias=True)\n",
       "    (7): ReLU()\n",
       "    (8): Linear(in_features=128, out_features=6, bias=True)\n",
       "  )\n",
       ")"
      ]
     },
     "execution_count": 121,
     "metadata": {},
     "output_type": "execute_result"
    }
   ],
   "source": [
    "# import 10 different model\n",
    "\n",
    "imported_model_1 = NeuralNetwork()\n",
    "imported_model_1.load_state_dict(torch.load('stored_fourhit_models_inc_neutrality/subsample10models/model_with_sb_alpha10minus8_randomseed_111_data_epoch_10000.pt'))\n",
    "imported_model_1.eval()\n",
    "\n",
    "imported_model_2 = NeuralNetwork()\n",
    "imported_model_2.load_state_dict(torch.load('stored_fourhit_models_inc_neutrality/subsample10models/model_with_sb_alpha10minus8_randomseed_112_data_epoch_10000.pt'))\n",
    "imported_model_2.eval()\n",
    "\n",
    "imported_model_3 = NeuralNetwork()\n",
    "imported_model_3.load_state_dict(torch.load('stored_fourhit_models_inc_neutrality/subsample10models/model_with_sb_alpha10minus8_randomseed_113_data_epoch_10000.pt'))\n",
    "imported_model_3.eval()\n",
    "\n",
    "imported_model_4 = NeuralNetwork()\n",
    "imported_model_4.load_state_dict(torch.load('stored_fourhit_models_inc_neutrality/subsample10models/model_with_sb_alpha10minus8_randomseed_114_data_epoch_10000.pt'))\n",
    "imported_model_4.eval()\n",
    "\n",
    "imported_model_5 = NeuralNetwork()\n",
    "imported_model_5.load_state_dict(torch.load('stored_fourhit_models_inc_neutrality/subsample10models/model_with_sb_alpha10minus8_randomseed_115_data_epoch_10000.pt'))\n",
    "imported_model_5.eval()\n",
    "\n",
    "imported_model_6 = NeuralNetwork()\n",
    "imported_model_6.load_state_dict(torch.load('stored_fourhit_models_inc_neutrality/subsample10models/model_with_sb_alpha10minus8_randomseed_116_data_epoch_10000.pt'))\n",
    "imported_model_6.eval()\n",
    "\n",
    "imported_model_7 = NeuralNetwork()\n",
    "imported_model_7.load_state_dict(torch.load('stored_fourhit_models_inc_neutrality/subsample10models/model_with_sb_alpha10minus8_randomseed_117_data_epoch_10000.pt'))\n",
    "imported_model_7.eval()\n",
    "\n",
    "imported_model_8 = NeuralNetwork()\n",
    "imported_model_8.load_state_dict(torch.load('stored_fourhit_models_inc_neutrality/subsample10models/model_with_sb_alpha10minus8_randomseed_118_data_epoch_10000.pt'))\n",
    "imported_model_8.eval()\n",
    "\n",
    "imported_model_9 = NeuralNetwork()\n",
    "imported_model_9.load_state_dict(torch.load('stored_fourhit_models_inc_neutrality/subsample10models/model_with_sb_alpha10minus8_randomseed_119_data_epoch_10000.pt'))\n",
    "imported_model_9.eval()\n",
    "\n",
    "imported_model_10 = NeuralNetwork()\n",
    "imported_model_10.load_state_dict(torch.load('stored_fourhit_models_inc_neutrality/subsample10models/model_with_sb_alpha10minus8_randomseed_120_data_epoch_10000.pt'))\n",
    "imported_model_10.eval()\n"
   ]
  },
  {
   "cell_type": "markdown",
   "id": "bda52f13",
   "metadata": {},
   "source": [
    "k=3, n=300"
   ]
  },
  {
   "cell_type": "code",
   "execution_count": null,
   "id": "7811caa8",
   "metadata": {},
   "outputs": [],
   "source": [
    "list_of_filenames=[\n",
    "    \"stored_threehit_models_inc_neutrality/subsample300models/datasets/testing_accuracy_model_with_sb_alpha_10minus8_randomseed_3001.json\",\n",
    "    \"stored_threehit_models_inc_neutrality/subsample300models/datasets/testing_accuracy_model_with_sb_alpha_10minus8_subsampling_2.json\",\n",
    "    \"stored_threehit_models_inc_neutrality/subsample300models/datasets/testing_accuracy_model_with_sb_alpha_10minus8_subsampling_3.json\"]\n"
   ]
  },
  {
   "cell_type": "code",
   "execution_count": 44,
   "id": "2cef4295",
   "metadata": {},
   "outputs": [
    {
     "data": {
      "text/plain": [
       "NeuralNetwork(\n",
       "  (flatten): Flatten(start_dim=1, end_dim=-1)\n",
       "  (linear_relu_stack): Sequential(\n",
       "    (0): Linear(in_features=3, out_features=256, bias=True)\n",
       "    (1): ReLU()\n",
       "    (2): Linear(in_features=256, out_features=512, bias=True)\n",
       "    (3): ReLU()\n",
       "    (4): Linear(in_features=512, out_features=256, bias=True)\n",
       "    (5): ReLU()\n",
       "    (6): Linear(in_features=256, out_features=128, bias=True)\n",
       "    (7): ReLU()\n",
       "    (8): Linear(in_features=128, out_features=9, bias=True)\n",
       "  )\n",
       ")"
      ]
     },
     "execution_count": 44,
     "metadata": {},
     "output_type": "execute_result"
    }
   ],
   "source": [
    "# imported_model_1 = NeuralNetwork()\n",
    "# imported_model_1.load_state_dict(torch.load('stored_threehit_models_inc_neutrality/subsample300models/model_with_sb_alpha_10minus8_randomseed_3001_data_epoch_100000.pt'))\n",
    "# imported_model_1.eval()\n",
    "\n",
    "# imported_model_2 = NeuralNetwork()\n",
    "# imported_model_2.load_state_dict(torch.load('stored_threehit_models_inc_neutrality/subsample300models/model_with_sb_alpha_10minus8_subsampling_2_data_epoch_75000.pt'))\n",
    "# imported_model_2.eval()\n",
    "\n",
    "# imported_model_3 = NeuralNetwork()\n",
    "# imported_model_3.load_state_dict(torch.load('stored_threehit_models_inc_neutrality/subsample300models/model_with_sb_alpha_10minus8_subsampling_3_data_epoch_72000.pt'))\n",
    "# imported_model_3.eval()"
   ]
  },
  {
   "cell_type": "code",
   "execution_count": 161,
   "id": "1b877386",
   "metadata": {},
   "outputs": [
    {
     "data": {
      "text/plain": [
       "NeuralNetwork(\n",
       "  (flatten): Flatten(start_dim=1, end_dim=-1)\n",
       "  (linear_relu_stack): Sequential(\n",
       "    (0): Linear(in_features=3, out_features=256, bias=True)\n",
       "    (1): ReLU()\n",
       "    (2): Linear(in_features=256, out_features=512, bias=True)\n",
       "    (3): ReLU()\n",
       "    (4): Linear(in_features=512, out_features=256, bias=True)\n",
       "    (5): ReLU()\n",
       "    (6): Linear(in_features=256, out_features=128, bias=True)\n",
       "    (7): ReLU()\n",
       "    (8): Linear(in_features=128, out_features=9, bias=True)\n",
       "  )\n",
       ")"
      ]
     },
     "execution_count": 161,
     "metadata": {},
     "output_type": "execute_result"
    }
   ],
   "source": [
    "\n",
    "imported_model_1 = NeuralNetwork()\n",
    "imported_model_1.load_state_dict(torch.load('stored_threehit_models_inc_neutrality/subsample300models/model_with_sb_randomseed_3001_data_epoch_10000.pt'))\n",
    "imported_model_1.eval()\n",
    "\n",
    "imported_model_2 = NeuralNetwork()\n",
    "imported_model_2.load_state_dict(torch.load('stored_threehit_models_inc_neutrality/subsample300models/model_with_sb_randomseed_3002_data_epoch_10000.pt'))\n",
    "imported_model_2.eval()\n",
    "\n",
    "imported_model_3 = NeuralNetwork()\n",
    "imported_model_3.load_state_dict(torch.load('stored_threehit_models_inc_neutrality/subsample300models/model_with_sb_randomseed_3003_data_epoch_10000.pt'))\n",
    "imported_model_3.eval()\n",
    "\n",
    "imported_model_4 = NeuralNetwork()\n",
    "imported_model_4.load_state_dict(torch.load('stored_threehit_models_inc_neutrality/subsample300models/model_with_sb_randomseed_3004_data_epoch_10000.pt'))\n",
    "imported_model_4.eval()\n",
    "\n",
    "imported_model_5 = NeuralNetwork()\n",
    "imported_model_5.load_state_dict(torch.load('stored_threehit_models_inc_neutrality/subsample300models/model_with_sb_randomseed_3005_data_epoch_10000.pt'))\n",
    "imported_model_5.eval()\n",
    "\n",
    "imported_model_6 = NeuralNetwork()\n",
    "imported_model_6.load_state_dict(torch.load('stored_threehit_models_inc_neutrality/subsample300models/model_with_sb_randomseed_3006_data_epoch_10000.pt'))\n",
    "imported_model_6.eval()\n",
    "\n",
    "imported_model_7 = NeuralNetwork()\n",
    "imported_model_7.load_state_dict(torch.load('stored_threehit_models_inc_neutrality/subsample300models/model_with_sb_randomseed_3007_data_epoch_10000.pt'))\n",
    "imported_model_7.eval()\n",
    "\n",
    "imported_model_8 = NeuralNetwork()\n",
    "imported_model_8.load_state_dict(torch.load('stored_threehit_models_inc_neutrality/subsample300models/model_with_sb_randomseed_3008_data_epoch_10000.pt'))\n",
    "imported_model_8.eval()\n",
    "\n",
    "imported_model_9 = NeuralNetwork()\n",
    "imported_model_9.load_state_dict(torch.load('stored_threehit_models_inc_neutrality/subsample300models/model_with_sb_randomseed_3009_data_epoch_10000.pt'))\n",
    "imported_model_9.eval()\n",
    "\n",
    "imported_model_10 = NeuralNetwork()\n",
    "imported_model_10.load_state_dict(torch.load('stored_threehit_models_inc_neutrality/subsample300models/model_with_sb_randomseed_3010_data_epoch_10000.pt'))\n",
    "imported_model_10.eval()\n"
   ]
  },
  {
   "cell_type": "markdown",
   "id": "671600cd",
   "metadata": {},
   "source": [
    "k=3, n=100"
   ]
  },
  {
   "cell_type": "code",
   "execution_count": null,
   "id": "6e3f3498",
   "metadata": {},
   "outputs": [],
   "source": [
    "# k=3, n=100\n",
    "list_of_filenames=[\n",
    "    \"stored_threehit_models_inc_neutrality/subsample100models/datasets/testing_accuracy_model_with_sb_alpha_10minus8_randomseed_1331.json\",\n",
    "    \"stored_threehit_models_inc_neutrality/subsample100models/datasets/testing_accuracy_model_with_sb_alpha_10minus8_subsampling_2.json\",\n",
    "    \"stored_threehit_models_inc_neutrality/subsample100models/datasets/testing_accuracy_model_with_sb_alpha_10minus8_subsampling_3.json\"]\n"
   ]
  },
  {
   "cell_type": "code",
   "execution_count": 43,
   "id": "f2ee991c",
   "metadata": {},
   "outputs": [
    {
     "data": {
      "text/plain": [
       "NeuralNetwork(\n",
       "  (flatten): Flatten(start_dim=1, end_dim=-1)\n",
       "  (linear_relu_stack): Sequential(\n",
       "    (0): Linear(in_features=3, out_features=256, bias=True)\n",
       "    (1): ReLU()\n",
       "    (2): Linear(in_features=256, out_features=512, bias=True)\n",
       "    (3): ReLU()\n",
       "    (4): Linear(in_features=512, out_features=256, bias=True)\n",
       "    (5): ReLU()\n",
       "    (6): Linear(in_features=256, out_features=128, bias=True)\n",
       "    (7): ReLU()\n",
       "    (8): Linear(in_features=128, out_features=9, bias=True)\n",
       "  )\n",
       ")"
      ]
     },
     "execution_count": 43,
     "metadata": {},
     "output_type": "execute_result"
    }
   ],
   "source": [
    "# imported_model_1 = NeuralNetwork()\n",
    "# imported_model_1.load_state_dict(torch.load('stored_threehit_models_inc_neutrality/subsample100models/model_with_sb_alpha_10minus8_randomseed_1331_data_epoch_93000.pt'))\n",
    "# imported_model_1.eval()\n",
    "\n",
    "# imported_model_2 = NeuralNetwork()\n",
    "# imported_model_2.load_state_dict(torch.load('stored_threehit_models_inc_neutrality/subsample100models/model_with_sb_alpha_10minus8_subsampling_2_data_epoch_72000.pt'))\n",
    "# imported_model_2.eval()\n",
    "\n",
    "# imported_model_3 = NeuralNetwork()\n",
    "# imported_model_3.load_state_dict(torch.load('stored_threehit_models_inc_neutrality/subsample100models/model_with_sb_alpha_10minus8_subsampling_3_data_epoch_80000.pt'))\n",
    "# imported_model_3.eval()"
   ]
  },
  {
   "cell_type": "code",
   "execution_count": 87,
   "id": "f1e53a97",
   "metadata": {},
   "outputs": [
    {
     "data": {
      "text/plain": [
       "NeuralNetwork(\n",
       "  (flatten): Flatten(start_dim=1, end_dim=-1)\n",
       "  (linear_relu_stack): Sequential(\n",
       "    (0): Linear(in_features=3, out_features=256, bias=True)\n",
       "    (1): ReLU()\n",
       "    (2): Linear(in_features=256, out_features=512, bias=True)\n",
       "    (3): ReLU()\n",
       "    (4): Linear(in_features=512, out_features=256, bias=True)\n",
       "    (5): ReLU()\n",
       "    (6): Linear(in_features=256, out_features=128, bias=True)\n",
       "    (7): ReLU()\n",
       "    (8): Linear(in_features=128, out_features=9, bias=True)\n",
       "  )\n",
       ")"
      ]
     },
     "execution_count": 87,
     "metadata": {},
     "output_type": "execute_result"
    }
   ],
   "source": [
    "# import 10 different model\n",
    "\n",
    "imported_model_1 = NeuralNetwork()\n",
    "imported_model_1.load_state_dict(torch.load('stored_threehit_models_inc_neutrality/subsample100models/model_with_sb_randomseed_1331_data_epoch_10000.pt'))\n",
    "imported_model_1.eval()\n",
    "\n",
    "imported_model_2 = NeuralNetwork()\n",
    "imported_model_2.load_state_dict(torch.load('stored_threehit_models_inc_neutrality/subsample100models/model_with_sb_randomseed_1332_data_epoch_10000.pt'))\n",
    "imported_model_2.eval()\n",
    "\n",
    "imported_model_3 = NeuralNetwork()\n",
    "imported_model_3.load_state_dict(torch.load('stored_threehit_models_inc_neutrality/subsample100models/model_with_sb_randomseed_1333_data_epoch_10000.pt'))\n",
    "imported_model_3.eval()\n",
    "\n",
    "imported_model_4 = NeuralNetwork()\n",
    "imported_model_4.load_state_dict(torch.load('stored_threehit_models_inc_neutrality/subsample100models/model_with_sb_randomseed_1334_data_epoch_10000.pt'))\n",
    "imported_model_4.eval()\n",
    "\n",
    "imported_model_5 = NeuralNetwork()\n",
    "imported_model_5.load_state_dict(torch.load('stored_threehit_models_inc_neutrality/subsample100models/model_with_sb_randomseed_1335_data_epoch_10000.pt'))\n",
    "imported_model_5.eval()\n",
    "\n",
    "imported_model_6 = NeuralNetwork()\n",
    "imported_model_6.load_state_dict(torch.load('stored_threehit_models_inc_neutrality/subsample100models/model_with_sb_randomseed_1336_data_epoch_10000.pt'))\n",
    "imported_model_6.eval()\n",
    "\n",
    "imported_model_7 = NeuralNetwork()\n",
    "imported_model_7.load_state_dict(torch.load('stored_threehit_models_inc_neutrality/subsample100models/model_with_sb_randomseed_1337_data_epoch_10000.pt'))\n",
    "imported_model_7.eval()\n",
    "\n",
    "imported_model_8 = NeuralNetwork()\n",
    "imported_model_8.load_state_dict(torch.load('stored_threehit_models_inc_neutrality/subsample100models/model_with_sb_randomseed_1338_data_epoch_10000.pt'))\n",
    "imported_model_8.eval()\n",
    "\n",
    "imported_model_9 = NeuralNetwork()\n",
    "imported_model_9.load_state_dict(torch.load('stored_threehit_models_inc_neutrality/subsample100models/model_with_sb_randomseed_1339_data_epoch_10000.pt'))\n",
    "imported_model_9.eval()\n",
    "\n",
    "imported_model_10 = NeuralNetwork()\n",
    "imported_model_10.load_state_dict(torch.load('stored_threehit_models_inc_neutrality/subsample100models/model_with_sb_randomseed_1340_data_epoch_10000.pt'))\n",
    "imported_model_10.eval()\n"
   ]
  },
  {
   "cell_type": "markdown",
   "id": "04716bbe",
   "metadata": {},
   "source": [
    "k=3, n=30"
   ]
  },
  {
   "cell_type": "code",
   "execution_count": 46,
   "id": "7eca2a95",
   "metadata": {},
   "outputs": [],
   "source": [
    "list_of_filenames=[\n",
    "    \"stored_threehit_models_inc_neutrality/subsample30models/datasets/testing_accuracy_model_with_sb_alpha_10minus8_randomseed_301.json\",\n",
    "    \"stored_threehit_models_inc_neutrality/subsample30models/datasets/testing_accuracy_model_with_sb_alpha_10minus8_subsampling_2.json\",\n",
    "    \"stored_threehit_models_inc_neutrality/subsample30models/datasets/testing_accuracy_model_with_sb_alpha_10minus8_subsampling_3.json\"]\n"
   ]
  },
  {
   "cell_type": "code",
   "execution_count": 72,
   "id": "8537f546",
   "metadata": {},
   "outputs": [],
   "source": [
    "# imported_model_1 = NeuralNetwork()\n",
    "# imported_model_1.load_state_dict(torch.load('stored_threehit_models_inc_neutrality/subsample30models/model_with_sb_alpha_10minus8_randomseed_301_data_epoch_100000.pt'))\n",
    "# imported_model_1.eval()\n",
    "\n",
    "# imported_model_2 = NeuralNetwork()\n",
    "# imported_model_2.load_state_dict(torch.load('stored_threehit_models_inc_neutrality/subsample30models/model_with_sb_alpha_10minus8_subsampling_2_data_epoch_83000.pt'))\n",
    "# imported_model_2.eval()\n",
    "\n",
    "# imported_model_3 = NeuralNetwork()\n",
    "# imported_model_3.load_state_dict(torch.load('stored_threehit_models_inc_neutrality/subsample30models/model_with_sb_alpha_10minus8_subsampling_3_data_epoch_66000.pt'))\n",
    "# imported_model_3.eval()"
   ]
  },
  {
   "cell_type": "code",
   "execution_count": 154,
   "id": "3351635c",
   "metadata": {},
   "outputs": [
    {
     "data": {
      "text/plain": [
       "NeuralNetwork(\n",
       "  (flatten): Flatten(start_dim=1, end_dim=-1)\n",
       "  (linear_relu_stack): Sequential(\n",
       "    (0): Linear(in_features=3, out_features=256, bias=True)\n",
       "    (1): ReLU()\n",
       "    (2): Linear(in_features=256, out_features=512, bias=True)\n",
       "    (3): ReLU()\n",
       "    (4): Linear(in_features=512, out_features=256, bias=True)\n",
       "    (5): ReLU()\n",
       "    (6): Linear(in_features=256, out_features=128, bias=True)\n",
       "    (7): ReLU()\n",
       "    (8): Linear(in_features=128, out_features=9, bias=True)\n",
       "  )\n",
       ")"
      ]
     },
     "execution_count": 154,
     "metadata": {},
     "output_type": "execute_result"
    }
   ],
   "source": [
    "\n",
    "imported_model_1 = NeuralNetwork()\n",
    "imported_model_1.load_state_dict(torch.load('stored_threehit_models_inc_neutrality/subsample30models/model_with_sb_randomseed_301_data_epoch_10000.pt'))\n",
    "imported_model_1.eval()\n",
    "\n",
    "imported_model_2 = NeuralNetwork()\n",
    "imported_model_2.load_state_dict(torch.load('stored_threehit_models_inc_neutrality/subsample30models/model_with_sb_randomseed_302_data_epoch_10000.pt'))\n",
    "imported_model_2.eval()\n",
    "\n",
    "imported_model_3 = NeuralNetwork()\n",
    "imported_model_3.load_state_dict(torch.load('stored_threehit_models_inc_neutrality/subsample30models/model_with_sb_randomseed_303_data_epoch_10000.pt'))\n",
    "imported_model_3.eval()\n",
    "\n",
    "imported_model_4 = NeuralNetwork()\n",
    "imported_model_4.load_state_dict(torch.load('stored_threehit_models_inc_neutrality/subsample30models/model_with_sb_randomseed_304_data_epoch_10000.pt'))\n",
    "imported_model_4.eval()\n",
    "\n",
    "imported_model_5 = NeuralNetwork()\n",
    "imported_model_5.load_state_dict(torch.load('stored_threehit_models_inc_neutrality/subsample30models/model_with_sb_randomseed_305_data_epoch_10000.pt'))\n",
    "imported_model_5.eval()\n",
    "\n",
    "imported_model_6 = NeuralNetwork()\n",
    "imported_model_6.load_state_dict(torch.load('stored_threehit_models_inc_neutrality/subsample30models/model_with_sb_randomseed_306_data_epoch_10000.pt'))\n",
    "imported_model_6.eval()\n",
    "\n",
    "imported_model_7 = NeuralNetwork()\n",
    "imported_model_7.load_state_dict(torch.load('stored_threehit_models_inc_neutrality/subsample30models/model_with_sb_randomseed_307_data_epoch_10000.pt'))\n",
    "imported_model_7.eval()\n",
    "\n",
    "imported_model_8 = NeuralNetwork()\n",
    "imported_model_8.load_state_dict(torch.load('stored_threehit_models_inc_neutrality/subsample30models/model_with_sb_randomseed_308_data_epoch_10000.pt'))\n",
    "imported_model_8.eval()\n",
    "\n",
    "imported_model_9 = NeuralNetwork()\n",
    "imported_model_9.load_state_dict(torch.load('stored_threehit_models_inc_neutrality/subsample30models/model_with_sb_randomseed_309_data_epoch_10000.pt'))\n",
    "imported_model_9.eval()\n",
    "\n",
    "imported_model_10 = NeuralNetwork()\n",
    "imported_model_10.load_state_dict(torch.load('stored_threehit_models_inc_neutrality/subsample30models/model_with_sb_randomseed_310_data_epoch_10000.pt'))\n",
    "imported_model_10.eval()\n"
   ]
  },
  {
   "cell_type": "markdown",
   "id": "9a785f65",
   "metadata": {},
   "source": [
    "k=3, n=10"
   ]
  },
  {
   "cell_type": "code",
   "execution_count": 92,
   "id": "31bb1376",
   "metadata": {},
   "outputs": [
    {
     "data": {
      "text/plain": [
       "NeuralNetwork(\n",
       "  (flatten): Flatten(start_dim=1, end_dim=-1)\n",
       "  (linear_relu_stack): Sequential(\n",
       "    (0): Linear(in_features=3, out_features=256, bias=True)\n",
       "    (1): ReLU()\n",
       "    (2): Linear(in_features=256, out_features=512, bias=True)\n",
       "    (3): ReLU()\n",
       "    (4): Linear(in_features=512, out_features=256, bias=True)\n",
       "    (5): ReLU()\n",
       "    (6): Linear(in_features=256, out_features=128, bias=True)\n",
       "    (7): ReLU()\n",
       "    (8): Linear(in_features=128, out_features=9, bias=True)\n",
       "  )\n",
       ")"
      ]
     },
     "execution_count": 92,
     "metadata": {},
     "output_type": "execute_result"
    }
   ],
   "source": [
    "\n",
    "imported_model_1 = NeuralNetwork()\n",
    "imported_model_1.load_state_dict(torch.load('stored_threehit_models_inc_neutrality/subsample10models/model_with_sb_alpha_10minus8_subsampling_1_data_epoch_10000.pt'))\n",
    "imported_model_1.eval()\n",
    "\n",
    "imported_model_2 = NeuralNetwork()\n",
    "imported_model_2.load_state_dict(torch.load('stored_threehit_models_inc_neutrality/subsample10models/model_with_sb_alpha_10minus8_subsampling_2_data_epoch_10000.pt'))\n",
    "imported_model_2.eval()\n",
    "\n",
    "imported_model_3 = NeuralNetwork()\n",
    "imported_model_3.load_state_dict(torch.load('stored_threehit_models_inc_neutrality/subsample10models/model_with_sb_alpha_10minus8_subsampling_3_data_epoch_10000.pt'))\n",
    "imported_model_3.eval()\n",
    "\n",
    "imported_model_4 = NeuralNetwork()\n",
    "imported_model_4.load_state_dict(torch.load('stored_threehit_models_inc_neutrality/subsample10models/model_with_sb_alpha_10minus8_subsampling_1_data_epoch_10000.pt'))\n",
    "imported_model_4.eval()\n",
    "\n",
    "imported_model_5 = NeuralNetwork()\n",
    "imported_model_5.load_state_dict(torch.load('stored_threehit_models_inc_neutrality/subsample10models/model_with_sb_alpha_10minus8_subsampling_4_data_epoch_10000.pt'))\n",
    "imported_model_5.eval()\n",
    "\n",
    "imported_model_6 = NeuralNetwork()\n",
    "imported_model_6.load_state_dict(torch.load('stored_threehit_models_inc_neutrality/subsample10models/model_with_sb_alpha_10minus8_subsampling_5_data_epoch_10000.pt'))\n",
    "imported_model_6.eval()\n",
    "\n",
    "imported_model_1 = NeuralNetwork()\n",
    "imported_model_1.load_state_dict(torch.load('stored_threehit_models_inc_neutrality/subsample10models/model_with_sb_alpha_10minus8_subsampling_6_data_epoch_10000.pt'))\n",
    "imported_model_1.eval()\n",
    "\n",
    "imported_model_7 = NeuralNetwork()\n",
    "imported_model_7.load_state_dict(torch.load('stored_threehit_models_inc_neutrality/subsample10models/model_with_sb_alpha_10minus8_subsampling_7_data_epoch_10000.pt'))\n",
    "imported_model_7.eval()\n",
    "\n",
    "imported_model_8 = NeuralNetwork()\n",
    "imported_model_8.load_state_dict(torch.load('stored_threehit_models_inc_neutrality/subsample10models/model_with_sb_alpha_10minus8_subsampling_8_data_epoch_10000.pt'))\n",
    "imported_model_8.eval()\n",
    "\n",
    "imported_model_9 = NeuralNetwork()\n",
    "imported_model_9.load_state_dict(torch.load('stored_threehit_models_inc_neutrality/subsample10models/model_with_sb_alpha_10minus8_subsampling_9_data_epoch_10000.pt'))\n",
    "imported_model_9.eval()\n",
    "\n",
    "imported_model_10 = NeuralNetwork()\n",
    "imported_model_10.load_state_dict(torch.load('stored_threehit_models_inc_neutrality/subsample10models/model_with_sb_alpha_10minus8_subsampling_10_data_epoch_10000.pt'))\n",
    "imported_model_10.eval()\n",
    "\n"
   ]
  },
  {
   "cell_type": "code",
   "execution_count": null,
   "id": "d73d5b66",
   "metadata": {},
   "outputs": [],
   "source": []
  }
 ],
 "metadata": {
  "kernelspec": {
   "display_name": "Python 3 (ipykernel)",
   "language": "python",
   "name": "python3"
  },
  "language_info": {
   "codemirror_mode": {
    "name": "ipython",
    "version": 3
   },
   "file_extension": ".py",
   "mimetype": "text/x-python",
   "name": "python",
   "nbconvert_exporter": "python",
   "pygments_lexer": "ipython3",
   "version": "3.10.9"
  }
 },
 "nbformat": 4,
 "nbformat_minor": 5
}
